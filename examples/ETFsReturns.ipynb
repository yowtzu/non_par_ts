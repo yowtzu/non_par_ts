{
 "cells": [
  {
   "cell_type": "code",
   "execution_count": null,
   "metadata": {},
   "outputs": [],
   "source": [
    "%matplotlib inline\n",
    "import pandas as pd\n",
    "import numpy as np\n",
    "import matplotlib.pyplot as plt\n",
    "\n",
    "\n",
    "import npts"
   ]
  },
  {
   "cell_type": "code",
   "execution_count": null,
   "metadata": {
    "scrolled": true
   },
   "outputs": [],
   "source": [
    "data = pd.read_csv('http://stanford.edu/class/ee103/data/returns.txt', index_col=0, parse_dates=[0])\n",
    "data_used = data.iloc[:, :10]"
   ]
  },
  {
   "cell_type": "code",
   "execution_count": null,
   "metadata": {},
   "outputs": [],
   "source": [
    "baseline = npts.Baseline(npts.QuarterOfYear(lambdas=np.logspace(-4,4,10)),\n",
    "                               npts.BDayOfQuarter(lambdas=np.logspace(-4,4,10)), verbose=True)\n",
    "baseline.fit(data_used)"
   ]
  },
  {
   "cell_type": "code",
   "execution_count": null,
   "metadata": {},
   "outputs": [],
   "source": [
    "def plot_RMSE(baseline, cost_dict, title):\n",
    "    fig = plt.figure(figsize=(8,4))\n",
    "    cax = plt.hexbin(*np.array([[*np.log10(k), np.sqrt(v)] for k, v \n",
    "                          in cost_dict.items()]).T,\n",
    "              gridsize=20)\n",
    "    axc = fig.colorbar(cax, ax=fig.gca(), shrink=.7)\n",
    "    plt.plot(*np.log10(baseline.best_lambda), 'ro', markersize=10)\n",
    "    plt.xlabel('log10(λ_quarter)')\n",
    "    plt.ylabel('log10(λ_day)')\n",
    "    plt.title(title)\n",
    "    \n",
    "plot_RMSE(weekly_seasonal, weekly_seasonal.val_costs, 'test')\n"
   ]
  },
  {
   "cell_type": "code",
   "execution_count": null,
   "metadata": {},
   "outputs": [],
   "source": [
    "def plot_2d_model(theta):\n",
    "    \n",
    "    plt.figure()\n",
    "    plt.plot(theta)\n",
    "    plt.xlabel('hours since start of year')\n",
    "\n",
    "    fig = plt.figure()\n",
    "    cax = plt.imshow(theta.reshape((66,4)).T, \n",
    "                     aspect='auto',origin='lower',interpolation='gaussian')\n",
    "    axc = fig.colorbar(cax, ax=fig.gca(), shrink=.7)\n",
    "    plt.xlabel('dayofquarter')\n",
    "    plt.ylabel('quarter')\n",
    "\n",
    "plot_2d_model(weekly_seasonal.theta[:,0])\n"
   ]
  },
  {
   "cell_type": "code",
   "execution_count": null,
   "metadata": {},
   "outputs": [],
   "source": [
    "\n",
    "plt.plot(weekly_seasonal.theta)"
   ]
  },
  {
   "cell_type": "code",
   "execution_count": null,
   "metadata": {},
   "outputs": [],
   "source": [
    "# ### Error baseline \n",
    "\n",
    "# In[71]:\n",
    "\n",
    "residuals = data_used - baseline.predict(data_used.index).values\n",
    "\n",
    "\n",
    "# In[82]:\n",
    "\n",
    "import itertools\n",
    "outer_product_col = list(itertools.combinations_with_replacement(residuals.columns, 2))\n",
    "residual_squares = pd.DataFrame(columns=outer_product_col)\n",
    "\n",
    "for col in residual_squares.columns:\n",
    "    residual_squares[col] = residuals[col[0]] * residuals[col[1]]\n",
    "\n",
    "\n",
    "# In[83]:\n",
    "\n",
    "residual_squares\n",
    "\n",
    "\n",
    "# In[89]:\n",
    "\n",
    "residual_squares.shape\n",
    "\n",
    "\n",
    "# In[94]:\n",
    "\n",
    "cov_baseline = npts.Baseline(npts.QuarterOfYear(lambdas=np.logspace(-4,4,10)),\n",
    "                               npts.BDayOfQuarter(lambdas=np.logspace(-4,4,10)), verbose=True)\n",
    "cov_baseline.fit(residual_squares)\n",
    "\n",
    "\n",
    "# In[95]:\n",
    "\n",
    "def plot_RMSE(baseline, cost_dict, title):\n",
    "    fig = plt.figure(figsize=(8,4))\n",
    "    cax = plt.hexbin(*np.array([[*np.log10(k), np.sqrt(v)] for k, v \n",
    "                          in cost_dict.items()]).T,\n",
    "              gridsize=20)\n",
    "    axc = fig.colorbar(cax, ax=fig.gca(), shrink=.7)\n",
    "    plt.plot(*np.log10(baseline.best_lambda), 'ro', markersize=10)\n",
    "    plt.xlabel('log10(λ_quarter)')\n",
    "    plt.ylabel('log10(λ_day)')\n",
    "    plt.title(title)\n",
    "    \n",
    "plot_RMSE(cov_baseline, cov_baseline.val_costs, 'test')\n",
    "\n",
    "\n",
    "# In[96]:\n",
    "\n",
    "plt.plot(cov_baseline.theta)\n",
    "\n",
    "\n",
    "# In[122]:\n",
    "\n",
    "t = 5\n",
    "\n",
    "cov = pd.DataFrame(index=data_used.columns,\n",
    "             columns=data_used.columns,dtype=float)\n",
    "\n",
    "for i,pair in enumerate(residual_squares.columns):\n",
    "    cov.loc[pair[0], pair[1]] = cov_baseline.theta[t,i]\n",
    "    cov.loc[pair[1], pair[0]] = cov_baseline.theta[t,i]\n",
    "    \n",
    "plt.imshow(cov.values)\n",
    "\n",
    "\n",
    "# In[ ]:\n"
   ]
  }
 ],
 "metadata": {
  "kernelspec": {
   "display_name": "Python 3",
   "language": "python",
   "name": "python3"
  },
  "language_info": {
   "codemirror_mode": {
    "name": "ipython",
    "version": 3
   },
   "file_extension": ".py",
   "mimetype": "text/x-python",
   "name": "python",
   "nbconvert_exporter": "python",
   "pygments_lexer": "ipython3",
   "version": "3.6.4"
  }
 },
 "nbformat": 4,
 "nbformat_minor": 2
}
