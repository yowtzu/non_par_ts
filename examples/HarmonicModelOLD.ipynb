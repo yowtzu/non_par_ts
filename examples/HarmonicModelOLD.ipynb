{
 "cells": [
  {
   "cell_type": "code",
   "execution_count": 1,
   "metadata": {},
   "outputs": [],
   "source": [
    "%matplotlib inline\n",
    "import matplotlib.pyplot as plt\n",
    "import pandas as pd\n",
    "import numpy as np\n",
    "\n",
    "import npts\n",
    "\n",
    "DATA_DIR = 'data/'"
   ]
  },
  {
   "cell_type": "code",
   "execution_count": 2,
   "metadata": {},
   "outputs": [],
   "source": [
    "def load_year(year):\n",
    "    ## Look at the document in DATA_DIR for spec.\n",
    "    data=pd.read_csv(DATA_DIR+f'{year}-SFO-weather.csv.gz', usecols=[1,13])\n",
    "    data.index = pd.to_datetime(data.DATE, format='%Y-%m-%dT%H:%M:%S')\n",
    "    data = data.dropna()\n",
    "    data['temp'] = data.TMP.apply(lambda el: float(el.split(',')[0])/10.)\n",
    "    data['qual_code'] = data.TMP.apply(lambda el: (el.split(',')[1]))\n",
    "    # time zone\n",
    "    import pytz\n",
    "    pacific = pytz.timezone('US/Pacific')\n",
    "    data.index = data.index.tz_localize(pytz.utc).tz_convert(pacific)\n",
    "\n",
    "    return data.temp[data.qual_code.isin(['1','5'])]\n",
    "\n",
    "temperatures = pd.Series()\n",
    "for year in range(1987, 2019):\n",
    "    temperatures = temperatures.append(load_year(year))"
   ]
  },
  {
   "cell_type": "code",
   "execution_count": 3,
   "metadata": {},
   "outputs": [
    {
     "name": "stdout",
     "output_type": "stream",
     "text": [
      "we have years: {1986, 1987, 1988, 1989, 1990, 1991, 1992, 1993, 1994, 1995, 1996, 1997, 1998, 1999, 2000, 2001, 2002, 2003, 2004, 2005, 2006, 2007, 2008, 2009, 2010, 2011, 2012, 2013, 2014, 2015, 2016, 2017, 2018}\n"
     ]
    }
   ],
   "source": [
    "print('we have years:', set(temperatures.index.year))\n",
    "data_used = temperatures[temperatures.index.year <= 2015]\n",
    "indep_test = temperatures[temperatures.index.year > 2015]"
   ]
  },
  {
   "cell_type": "code",
   "execution_count": 4,
   "metadata": {},
   "outputs": [],
   "source": [
    "tropical_year_seconds = 365.24219 * 86400"
   ]
  },
  {
   "cell_type": "code",
   "execution_count": 30,
   "metadata": {},
   "outputs": [],
   "source": [
    "import itertools\n",
    "\n",
    "\n",
    "def to_seconds(index):\n",
    "    \"\"\"Given a TS index, return the seconds from Jan 1st, 2000.\"\"\"\n",
    "    return (index - pd.Timestamp('2000-01-01', tz=index.tz)).total_seconds()\n",
    "\n",
    "\n",
    "def basis_apply(func, period, harmonic, index_count):\n",
    "    return func(2 * np.pi * harmonic * index_count / period)\n",
    "\n",
    "\n",
    "class HarmonicFit(object):\n",
    "    def __init__(self, periods_seconds, max_harmonics=5):\n",
    "        self.periods_seconds = periods_seconds\n",
    "        self.max_harmonics = max_harmonics\n",
    "        \n",
    "    def bases_iter(self, n_harmonics):\n",
    "        bases = list(itertools.product((np.sin, np.cos), \n",
    "                                  self.periods_seconds, \n",
    "                                  range(1, n_harmonics+1)))\n",
    "        return itertools.chain([(np.cos, 1, 0.)], bases)        \n",
    "        \n",
    "    def featurize(self, data_index, n_harmonics):\n",
    "        \"\"\"Makes features matrix for index, iter of periods (in sec.), and num. of harmonics.\"\"\"\n",
    "        \n",
    "        n_features = 1 + len(self.periods_seconds) * n_harmonics * 2\n",
    "        index_seconds = to_seconds(data_index)\n",
    "        X = np.empty((len(data_index), n_features))\n",
    "        for i, base in enumerate(self.bases_iter(n_harmonics)):\n",
    "            X[:, i] = basis_apply(*base, index_seconds)\n",
    "        return X\n",
    "        \n",
    "    def fit(self, data, train_frac = .75):\n",
    "        \n",
    "        mask = np.random.uniform(size=len(data)) <= train_frac\n",
    "        \n",
    "        self.betas = {}\n",
    "        self.val_costs = {}\n",
    "        \n",
    "        for n_harmonics in range(1, self.max_harmonics+1):\n",
    "            X_tr = self.featurize(data.index[mask], n_harmonics)\n",
    "            y_tr = data.values[mask]\n",
    "            X_val = self.featurize(data.index[~mask], n_harmonics)\n",
    "            y_val = data.values[~mask]\n",
    "            self.betas[n_harmonics] = np.linalg.solve(X_tr.T @ X_tr, X_tr.T @ y_tr)\n",
    "            self.val_costs[n_harmonics] = np.sqrt(np.mean((X_val@self.betas[n_harmonics] - y_val)**2))\n",
    "            \n",
    "        self.beta = self.betas[self.best_n_harmonic]\n",
    "            \n",
    "    @property\n",
    "    def best_n_harmonic(self):\n",
    "        return min(self.val_costs, key=self.val_costs.get)\n",
    "\n",
    "    def predict(self, test_index):\n",
    "        X = self.featurize(test_index, self.best_n_harmonic)\n",
    "        return pd.Series(index=test_index, data = X@self.beta)"
   ]
  },
  {
   "cell_type": "code",
   "execution_count": 31,
   "metadata": {},
   "outputs": [],
   "source": [
    "model = HarmonicFit([86400, 365.24219 * 86400])\n",
    "\n",
    "def sparsify_data(data, frac):\n",
    "    return data[np.random.uniform(size=len(data)) < frac]\n",
    "\n",
    "model.fit(sparsify_data(data_used, 1.))\n",
    "pred = model.predict(indep_test.index)"
   ]
  },
  {
   "cell_type": "code",
   "execution_count": 32,
   "metadata": {},
   "outputs": [
    {
     "data": {
      "text/plain": [
       "{1: 2.6211765988314553,\n",
       " 2: 2.4971842150818033,\n",
       " 3: 2.4810455377629159,\n",
       " 4: 2.4785822881019364,\n",
       " 5: 2.4781010747885017}"
      ]
     },
     "execution_count": 32,
     "metadata": {},
     "output_type": "execute_result"
    }
   ],
   "source": [
    "model.val_costs"
   ]
  },
  {
   "cell_type": "code",
   "execution_count": 33,
   "metadata": {},
   "outputs": [
    {
     "name": "stdout",
     "output_type": "stream",
     "text": [
      "RMSE 2.6121316933194842\n"
     ]
    }
   ],
   "source": [
    "print(f'RMSE {np.sqrt(np.mean((indep_test - pred)**2))}')"
   ]
  },
  {
   "cell_type": "code",
   "execution_count": 34,
   "metadata": {},
   "outputs": [
    {
     "data": {
      "text/plain": [
       "<matplotlib.axes._subplots.AxesSubplot at 0x15207ee828>"
      ]
     },
     "execution_count": 34,
     "metadata": {},
     "output_type": "execute_result"
    },
    {
     "data": {
      "image/png": "[encoded data removed]",
      "text/plain": [
       "<matplotlib.figure.Figure at 0x1520804a58>"
      ]
     },
     "metadata": {},
     "output_type": "display_data"
    }
   ],
   "source": [
    "indep_test.plot()\n",
    "pred.plot()"
   ]
  },
  {
   "cell_type": "code",
   "execution_count": 34,
   "metadata": {},
   "outputs": [
    {
     "data": {
      "text/plain": [
       "[<matplotlib.lines.Line2D at 0x115dfa668>]"
      ]
     },
     "execution_count": 34,
     "metadata": {},
     "output_type": "execute_result"
    },
    {
     "data": {
      "image/png": "[encoded data removed]",
      "text/plain": [
       "<matplotlib.figure.Figure at 0x112c87940>"
      ]
     },
     "metadata": {},
     "output_type": "display_data"
    }
   ],
   "source": [
    "plt.plot(model.beta)"
   ]
  },
  {
   "cell_type": "code",
   "execution_count": null,
   "metadata": {},
   "outputs": [],
   "source": [
    "np.empty"
   ]
  },
  {
   "cell_type": "code",
   "execution_count": 58,
   "metadata": {},
   "outputs": [],
   "source": [
    "si,co=_second_features(_to_seconds(data_used.index), 365*86400, 5)"
   ]
  },
  {
   "cell_type": "code",
   "execution_count": 59,
   "metadata": {},
   "outputs": [
    {
     "data": {
      "text/plain": [
       "[<matplotlib.lines.Line2D at 0x11e43e390>]"
      ]
     },
     "execution_count": 59,
     "metadata": {},
     "output_type": "execute_result"
    },
    {
     "data": {
      "image/png": "[encoded data removed]",
      "text/plain": [
       "<matplotlib.figure.Figure at 0x1196af518>"
      ]
     },
     "metadata": {},
     "output_type": "display_data"
    }
   ],
   "source": [
    "plt.plot(co)"
   ]
  },
  {
   "cell_type": "code",
   "execution_count": 48,
   "metadata": {},
   "outputs": [],
   "source": [
    "def _to_seconds(index):\n",
    "    \"\"\"Given a TS index, return the seconds from Jan 1st, 2000.\"\"\"\n",
    "    return (index - pd.Timestamp('2000-01-01', tz=index.tz)).total_seconds()\n",
    "\n",
    "def _second_features(index_seconds, period, harmonic):\n",
    "    \"\"\"Return sine and cosine harmonic for seconds of index.\"\"\"\n",
    "    scaled = 2 * np.pi * harmonic * index_seconds / period\n",
    "    return np.sin(scaled), np.cos(scaled)\n",
    "\n",
    "\n",
    "class HarmonicModel(object):\n",
    "\n",
    "    def __init__(self, periods, verbose=False):\n",
    "        \"\"\"Multi periodic smoother\n",
    "        Args:\n",
    "            - periods: objects that define n_periods and indexer\n",
    "            #- indexers is sequence of functions, to apply to data.index,\n",
    "            #        that return indexes (of each periodicity)\n",
    "            #- n_periods is number of periods for each\n",
    "        \"\"\"\n",
    "        self.indexers = [el.indexer for el in time_features]\n",
    "        self.n_periods = [el.n_periods for el in time_features]\n",
    "        self.K = len(time_features)\n",
    "        self.verbose = verbose\n",
    "        self.lambdas = [el.lambdas for el in time_features]\n",
    "        \n",
    "\n",
    "    def fit(self, data, train_frac=.8, seed=0, initial_lambda=None,\n",
    "            compute_tr_costs=False):\n",
    "\n",
    "\n",
    "        np.random.seed(seed)\n",
    "        self.compute_tr_costs = compute_tr_costs\n",
    "        self.initial_lambda = initial_lambda\n",
    "\n",
    "        self._split_prepare_data(data, train_frac)\n",
    "\n",
    "        # look at provided lambdas\n",
    "        if self.verbose:\n",
    "            print('Provided lambdas:', self.lambdas)\n",
    "\n",
    "        if compute_tr_costs:\n",
    "            self.tr_costs = {}\n",
    "        self.val_costs = {}\n",
    "        #self.thetas = {}\n",
    "\n",
    "        self._theta_cache = np.zeros((self.N, self.L))  # for cg warmstart\n",
    "        self._grad_cache = np.zeros((self.N, self.L))  # for cg warmstart\n",
    "\n",
    "        self.grid_search_and_numerical_opt()\n",
    "        self._select_model()\n",
    "        self._clear_cache()\n",
    "        \n",
    "\n",
    "\n",
    "    def _clear_cache(self):\n",
    "        del self._theta_cache\n",
    "        del self._grad_cache"
   ]
  },
  {
   "cell_type": "code",
   "execution_count": null,
   "metadata": {},
   "outputs": [],
   "source": []
  }
 ],
 "metadata": {
  "kernelspec": {
   "display_name": "Python 3",
   "language": "python",
   "name": "python3"
  },
  "language_info": {
   "codemirror_mode": {
    "name": "ipython",
    "version": 3
   },
   "file_extension": ".py",
   "mimetype": "text/x-python",
   "name": "python",
   "nbconvert_exporter": "python",
   "pygments_lexer": "ipython3",
   "version": "3.6.4"
  }
 },
 "nbformat": 4,
 "nbformat_minor": 2
}
