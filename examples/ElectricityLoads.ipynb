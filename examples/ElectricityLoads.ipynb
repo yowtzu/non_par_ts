{
 "cells": [
  {
   "cell_type": "code",
   "execution_count": null,
   "metadata": {},
   "outputs": [],
   "source": [
    "%matplotlib inline\n",
    "\n",
    "import matplotlib.pyplot as plt\n",
    "import pandas as pd\n",
    "import numpy as np\n",
    "import itertools\n",
    "\n",
    "import npts\n",
    "\n",
    "import time \n",
    "import copy"
   ]
  },
  {
   "cell_type": "code",
   "execution_count": null,
   "metadata": {},
   "outputs": [],
   "source": [
    "# ## Load Data (Grid Load in Northern California)\n",
    "\n",
    "# Data from \n",
    "# http://www.caiso.com/planning/Pages/ReliabilityRequirements/Default.aspx#Historical ,\n",
    "# the webpage seems down, however.\n",
    "\n",
    "# In[2]:\n",
    "\n",
    "caiso_df = pd.read_excel(\"data/HistoricalEMSHourlyLoad_2014-2016.xlsx\")\n",
    "caiso_df.index = caiso_df.Dates\n",
    "\n",
    "PGE_loads = caiso_df.PGE\n",
    "#SCE_loads = caiso_df.SCE\n",
    "PGE_loads.index.name = ''"
   ]
  },
  {
   "cell_type": "code",
   "execution_count": null,
   "metadata": {},
   "outputs": [],
   "source": [
    "PGE_loads.plot()\n",
    "\n",
    "\n",
    "# In[4]:\n",
    "\n",
    "print('we have years:', set(PGE_loads.index.year))\n",
    "data_used = PGE_loads[PGE_loads.index.year < 2016]\n",
    "indep_test = PGE_loads[PGE_loads.index.year >= 2016]\n",
    "\n",
    "\n",
    "# ## Fit and test the models \n",
    "\n"
   ]
  },
  {
   "cell_type": "code",
   "execution_count": null,
   "metadata": {},
   "outputs": [],
   "source": [
    "# In[5]:\n",
    "\n",
    "indep_test_rmse = pd.DataFrame()\n",
    "time_taken = pd.DataFrame()\n",
    "model_objs = pd.DataFrame()"
   ]
  },
  {
   "cell_type": "code",
   "execution_count": null,
   "metadata": {},
   "outputs": [],
   "source": [
    "MIN_REG = 1E-10 * np.abs(data_used).mean()\n",
    "MAX_REG = MIN_REG * 1E10\n",
    "MIN_REG, MAX_REG"
   ]
  },
  {
   "cell_type": "code",
   "execution_count": null,
   "metadata": {},
   "outputs": [],
   "source": [
    "# In[15]:\n",
    "\n",
    "models_modelnames = []#(npts.Baseline(), 'constant avg.', 1.)]\n",
    "\n",
    "features = [npts.HourOfDay, npts.MonthOfYear, npts.DayOfWeek]#, npts.USHoliday]\n",
    "\n",
    "for n_features in [2,3]:\n",
    "    for features_used in itertools.combinations(features,n_features):\n",
    "        models_modelnames.append((npts.Baseline(*(f(lambdas=[MIN_REG#1E-8\n",
    "                                                            ]) for f in features_used)), \n",
    "                                  ' and '.join(f.__name__ for f in features_used) + ' avg.',\n",
    "                                  1.))\n",
    "\n",
    "\n",
    "models_modelnames.append((npts.Baseline(*(f(lambdas=np.logspace(np.log10(MIN_REG),#-8,\n",
    "                                                                np.log10(MAX_REG),#-2, \n",
    "                                                                10)) for f in features), verbose=True), \n",
    "                          ' and '.join(f.__name__ for f in features) + ' bas.',\n",
    "                          .75))\n",
    "            \n",
    "\n",
    "# features_plus_holiday = features + [npts.USHoliday]\n",
    "# models_modelnames.append((npts.Baseline(*(f(lambdas=np.logspace(np.log10(MIN_REG),#-8,\n",
    "#                                                             np.log10(MAX_REG),#-2, \n",
    "#                                                             10)) for f in features_plus_holiday), verbose=True), \n",
    "#                       ' and '.join(f.__name__ for f in features_plus_holiday) + ' bas.',\n",
    "#                       .75))"
   ]
  },
  {
   "cell_type": "code",
   "execution_count": null,
   "metadata": {},
   "outputs": [],
   "source": [
    "day_seconds = 86400\n",
    "tropical_year_seconds = 365.24219 * day_seconds\n",
    "week_seconds = 7 * day_seconds\n",
    "\n",
    "models_modelnames.append(\n",
    "    [npts.Harmonic([day_seconds, tropical_year_seconds, week_seconds]), \n",
    "                     'daily and annual and weekly harmonic', .75])"
   ]
  },
  {
   "cell_type": "code",
   "execution_count": null,
   "metadata": {},
   "outputs": [],
   "source": [
    "# In[16]:\n",
    "\n",
    "np.random.seed(0)\n",
    "\n",
    "\n",
    "def sparsify_data(data, frac):\n",
    "    return data[np.random.uniform(size=len(data)) < frac]\n",
    "\n",
    "# for data, dataname in [(sparsify_data(data_used, target/len(data_used)), f'{target:e} observations')\n",
    "#                        for target in (1E5, 1E4, 1E3, 1E2)]:\n",
    "for data in [sparsify_data(data_used, target/len(data_used)) for target in (1E5, 1E4, 1E3, 1E2)]:\n",
    "    dataname = f'M = {len(data)}'\n",
    "    print(dataname)\n",
    "#     print(len(data),dataname)\n",
    "    for model, modelname, train_frac in models_modelnames:\n",
    "        \n",
    "        model_used = copy.copy(model)\n",
    "        print(f'fitting {modelname} using {100*train_frac:.0f}% train data')\n",
    "        model_objs.loc[dataname, modelname] = model_used\n",
    "        \n",
    "        s = time.time()\n",
    "        model_used.fit(data,train_frac=train_frac)\n",
    "        time_taken.loc[dataname, modelname] = time.time() - s\n",
    "        pred = model_used.predict(indep_test.index)\n",
    "        indep_test_rmse.loc[dataname, modelname] = np.sqrt(np.mean((indep_test - pred)**2)) \n"
   ]
  },
  {
   "cell_type": "code",
   "execution_count": null,
   "metadata": {},
   "outputs": [],
   "source": [
    "indep_test_rmse"
   ]
  },
  {
   "cell_type": "code",
   "execution_count": null,
   "metadata": {},
   "outputs": [],
   "source": [
    "print(indep_test_rmse.to_latex(float_format='%.3f'))"
   ]
  },
  {
   "cell_type": "code",
   "execution_count": null,
   "metadata": {},
   "outputs": [],
   "source": [
    "indep_test_rmse"
   ]
  },
  {
   "cell_type": "code",
   "execution_count": null,
   "metadata": {},
   "outputs": [],
   "source": [
    "indep_test_rmse"
   ]
  },
  {
   "cell_type": "code",
   "execution_count": null,
   "metadata": {},
   "outputs": [],
   "source": [
    "indep_test_rmse"
   ]
  },
  {
   "cell_type": "code",
   "execution_count": null,
   "metadata": {},
   "outputs": [],
   "source": [
    "indep_test_rmse"
   ]
  },
  {
   "cell_type": "code",
   "execution_count": null,
   "metadata": {},
   "outputs": [],
   "source": [
    "indep_test_rmse"
   ]
  },
  {
   "cell_type": "code",
   "execution_count": null,
   "metadata": {},
   "outputs": [],
   "source": [
    "win_s = 0\n",
    "win_e = win_s + 24*7\n",
    "\n",
    "plt.figure(figsize=(14,5))\n",
    "model_objs.iloc[0,4].predict(indep_test.index[win_s:win_e]).plot(label='regularized, 1.7E4 obs.', style='r--')\n",
    "model_objs.iloc[-1,4].predict(indep_test.index[win_s:win_e]).plot(label='regularized, 1E2 obs.', style='b--')\n",
    "indep_test[win_s:win_e].plot(label='real', style='k-')\n",
    "plt.ylabel('MWh')\n",
    "\n",
    "plt.legend()\n",
    "\n",
    "plt.figure(figsize=(14,5))\n",
    "\n",
    "model_objs.iloc[0,9].predict(indep_test.index[win_s:win_e]).plot(label='regularized + holiday, 1.7E4 obs.', style='r-.')\n",
    "model_objs.iloc[-1,9].predict(indep_test.index[win_s:win_e]).plot(label='regularized + holiday, 1E2 obs.', style='b-.')\n",
    "indep_test[win_s:win_e].plot(label='real', style='k-')\n",
    "plt.ylabel('MWh')\n",
    "\n",
    "plt.legend()\n",
    "\n",
    "plt.figure(figsize=(14,5))\n",
    "\n",
    "model_objs.iloc[0,-1].predict(indep_test.index[win_s:win_e]).plot(label='harmonic, 1.7E4 obs.', style='r-.')\n",
    "model_objs.iloc[-1,-1].predict(indep_test.index[win_s:win_e]).plot(label='harmonic, 1E2 obs.', style='b-.')\n",
    "indep_test[win_s:win_e].plot(label='real', style='k-')\n",
    "plt.ylabel('MWh')\n",
    "\n",
    "plt.legend()\n",
    "\n"
   ]
  },
  {
   "cell_type": "code",
   "execution_count": null,
   "metadata": {},
   "outputs": [],
   "source": []
  }
 ],
 "metadata": {
  "kernelspec": {
   "display_name": "Python 3",
   "language": "python",
   "name": "python3"
  },
  "language_info": {
   "codemirror_mode": {
    "name": "ipython",
    "version": 3
   },
   "file_extension": ".py",
   "mimetype": "text/x-python",
   "name": "python",
   "nbconvert_exporter": "python",
   "pygments_lexer": "ipython3",
   "version": "3.6.4"
  }
 },
 "nbformat": 4,
 "nbformat_minor": 2
}
